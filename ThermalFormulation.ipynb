{
 "cells": [
  {
   "cell_type": "code",
   "execution_count": 36,
   "metadata": {},
   "outputs": [],
   "source": [
    "# importing sympy\n",
    "import sympy as sp"
   ]
  },
  {
   "cell_type": "code",
   "execution_count": 37,
   "metadata": {},
   "outputs": [],
   "source": [
    "n_element_nodes=8\n",
    "\n",
    "# defining the symbols for the local and global coordinates\n",
    "x, y, z = sp.symbols('x y z')\n",
    "l_x, l_y, l_z = sp.symbols('l_x l_y l_z')\n",
    "\n",
    "# defining the local coordinates as functions of the global coordinates\n",
    "xi = x/l_x\n",
    "eta = y/l_y\n",
    "zeta = z/l_z\n",
    "\n",
    "# defining the 8 shape functions for the 8 nodes as functions of xi, eta, zeta\n",
    "N = sp.Matrix(n_element_nodes, 1, lambda i,_: sp.var(\"N_{i}\".format(i=i)))\n",
    "\n",
    "N[0] = (1-xi)*(1-eta)*(1-zeta)\n",
    "N[1] = (xi)*(1-eta)*(1-zeta)\n",
    "N[2] = (xi)*(eta)*(1-zeta)\n",
    "N[3] = (1-xi)*(eta)*(1-zeta)\n",
    "N[4] = (1-xi)*(1-eta)*zeta\n",
    "N[5] = (xi)*(1-eta)*zeta\n",
    "N[6] = (xi)*(eta)*zeta\n",
    "N[7] = (1-xi)*(eta)*zeta\n",
    "\n",
    "T = sp.Matrix(n_element_nodes, 1, lambda i,_: sp.var(\"T_{i}\".format(i=i)))"
   ]
  },
  {
   "cell_type": "code",
   "execution_count": 38,
   "metadata": {},
   "outputs": [
    {
     "data": {
      "text/latex": [
       "$\\displaystyle \\left[\\begin{matrix}- \\left(1 - y\\right) \\left(1 - z\\right) & \\left(1 - y\\right) \\left(1 - z\\right) & y \\left(1 - z\\right) & - y \\left(1 - z\\right) & - z \\left(1 - y\\right) & z \\left(1 - y\\right) & y z & - y z\\\\- \\left(1 - x\\right) \\left(1 - z\\right) & - x \\left(1 - z\\right) & x \\left(1 - z\\right) & \\left(1 - x\\right) \\left(1 - z\\right) & - z \\left(1 - x\\right) & - x z & x z & z \\left(1 - x\\right)\\\\- \\left(1 - x\\right) \\left(1 - y\\right) & - x \\left(1 - y\\right) & - x y & - y \\left(1 - x\\right) & \\left(1 - x\\right) \\left(1 - y\\right) & x \\left(1 - y\\right) & x y & y \\left(1 - x\\right)\\end{matrix}\\right]$"
      ],
      "text/plain": [
       "Matrix([\n",
       "[-(1 - y)*(1 - z), (1 - y)*(1 - z), y*(1 - z),      -y*(1 - z),      -z*(1 - y), z*(1 - y), y*z,      -y*z],\n",
       "[-(1 - x)*(1 - z),      -x*(1 - z), x*(1 - z), (1 - x)*(1 - z),      -z*(1 - x),      -x*z, x*z, z*(1 - x)],\n",
       "[-(1 - x)*(1 - y),      -x*(1 - y),      -x*y,      -y*(1 - x), (1 - x)*(1 - y), x*(1 - y), x*y, y*(1 - x)]])"
      ]
     },
     "execution_count": 38,
     "metadata": {},
     "output_type": "execute_result"
    }
   ],
   "source": [
    "# defining the derivatives of the shape functions with respect to the global coordinates\n",
    "DN = sp.Matrix([[sp.diff(N[i], x), sp.diff(N[i], y), sp.diff(N[i], z)] for i in range(n_element_nodes)]).T\n",
    "DN_cube = DN.subs({l_x: 1, l_y: 1, l_z: 1})\n",
    "DN_cube"
   ]
  },
  {
   "cell_type": "code",
   "execution_count": 39,
   "metadata": {},
   "outputs": [
    {
     "data": {
      "text/latex": [
       "$\\displaystyle \\left[\\begin{matrix}\\frac{d_{11} l_{y} l_{z}}{9 l_{x}} + \\frac{d_{22} l_{x} l_{z}}{9 l_{y}} + \\frac{d_{33} l_{x} l_{y}}{9 l_{z}} & - \\frac{d_{11} l_{y} l_{z}}{9 l_{x}} + \\frac{d_{22} l_{x} l_{z}}{18 l_{y}} + \\frac{d_{33} l_{x} l_{y}}{18 l_{z}} & - \\frac{d_{11} l_{y} l_{z}}{18 l_{x}} - \\frac{d_{22} l_{x} l_{z}}{18 l_{y}} + \\frac{d_{33} l_{x} l_{y}}{36 l_{z}} & \\frac{d_{11} l_{y} l_{z}}{18 l_{x}} - \\frac{d_{22} l_{x} l_{z}}{9 l_{y}} + \\frac{d_{33} l_{x} l_{y}}{18 l_{z}} & \\frac{d_{11} l_{y} l_{z}}{18 l_{x}} + \\frac{d_{22} l_{x} l_{z}}{18 l_{y}} - \\frac{d_{33} l_{x} l_{y}}{9 l_{z}} & - \\frac{d_{11} l_{y} l_{z}}{18 l_{x}} + \\frac{d_{22} l_{x} l_{z}}{36 l_{y}} - \\frac{d_{33} l_{x} l_{y}}{18 l_{z}} & - \\frac{d_{11} l_{y} l_{z}}{36 l_{x}} - \\frac{d_{22} l_{x} l_{z}}{36 l_{y}} - \\frac{d_{33} l_{x} l_{y}}{36 l_{z}} & \\frac{d_{11} l_{y} l_{z}}{36 l_{x}} - \\frac{d_{22} l_{x} l_{z}}{18 l_{y}} - \\frac{d_{33} l_{x} l_{y}}{18 l_{z}}\\\\- \\frac{d_{11} l_{y} l_{z}}{9 l_{x}} + \\frac{d_{22} l_{x} l_{z}}{18 l_{y}} + \\frac{d_{33} l_{x} l_{y}}{18 l_{z}} & \\frac{d_{11} l_{y} l_{z}}{9 l_{x}} + \\frac{d_{22} l_{x} l_{z}}{9 l_{y}} + \\frac{d_{33} l_{x} l_{y}}{9 l_{z}} & \\frac{d_{11} l_{y} l_{z}}{18 l_{x}} - \\frac{d_{22} l_{x} l_{z}}{9 l_{y}} + \\frac{d_{33} l_{x} l_{y}}{18 l_{z}} & - \\frac{d_{11} l_{y} l_{z}}{18 l_{x}} - \\frac{d_{22} l_{x} l_{z}}{18 l_{y}} + \\frac{d_{33} l_{x} l_{y}}{36 l_{z}} & - \\frac{d_{11} l_{y} l_{z}}{18 l_{x}} + \\frac{d_{22} l_{x} l_{z}}{36 l_{y}} - \\frac{d_{33} l_{x} l_{y}}{18 l_{z}} & \\frac{d_{11} l_{y} l_{z}}{18 l_{x}} + \\frac{d_{22} l_{x} l_{z}}{18 l_{y}} - \\frac{d_{33} l_{x} l_{y}}{9 l_{z}} & \\frac{d_{11} l_{y} l_{z}}{36 l_{x}} - \\frac{d_{22} l_{x} l_{z}}{18 l_{y}} - \\frac{d_{33} l_{x} l_{y}}{18 l_{z}} & - \\frac{d_{11} l_{y} l_{z}}{36 l_{x}} - \\frac{d_{22} l_{x} l_{z}}{36 l_{y}} - \\frac{d_{33} l_{x} l_{y}}{36 l_{z}}\\\\- \\frac{d_{11} l_{y} l_{z}}{18 l_{x}} - \\frac{d_{22} l_{x} l_{z}}{18 l_{y}} + \\frac{d_{33} l_{x} l_{y}}{36 l_{z}} & \\frac{d_{11} l_{y} l_{z}}{18 l_{x}} - \\frac{d_{22} l_{x} l_{z}}{9 l_{y}} + \\frac{d_{33} l_{x} l_{y}}{18 l_{z}} & \\frac{d_{11} l_{y} l_{z}}{9 l_{x}} + \\frac{d_{22} l_{x} l_{z}}{9 l_{y}} + \\frac{d_{33} l_{x} l_{y}}{9 l_{z}} & - \\frac{d_{11} l_{y} l_{z}}{9 l_{x}} + \\frac{d_{22} l_{x} l_{z}}{18 l_{y}} + \\frac{d_{33} l_{x} l_{y}}{18 l_{z}} & - \\frac{d_{11} l_{y} l_{z}}{36 l_{x}} - \\frac{d_{22} l_{x} l_{z}}{36 l_{y}} - \\frac{d_{33} l_{x} l_{y}}{36 l_{z}} & \\frac{d_{11} l_{y} l_{z}}{36 l_{x}} - \\frac{d_{22} l_{x} l_{z}}{18 l_{y}} - \\frac{d_{33} l_{x} l_{y}}{18 l_{z}} & \\frac{d_{11} l_{y} l_{z}}{18 l_{x}} + \\frac{d_{22} l_{x} l_{z}}{18 l_{y}} - \\frac{d_{33} l_{x} l_{y}}{9 l_{z}} & - \\frac{d_{11} l_{y} l_{z}}{18 l_{x}} + \\frac{d_{22} l_{x} l_{z}}{36 l_{y}} - \\frac{d_{33} l_{x} l_{y}}{18 l_{z}}\\\\\\frac{d_{11} l_{y} l_{z}}{18 l_{x}} - \\frac{d_{22} l_{x} l_{z}}{9 l_{y}} + \\frac{d_{33} l_{x} l_{y}}{18 l_{z}} & - \\frac{d_{11} l_{y} l_{z}}{18 l_{x}} - \\frac{d_{22} l_{x} l_{z}}{18 l_{y}} + \\frac{d_{33} l_{x} l_{y}}{36 l_{z}} & - \\frac{d_{11} l_{y} l_{z}}{9 l_{x}} + \\frac{d_{22} l_{x} l_{z}}{18 l_{y}} + \\frac{d_{33} l_{x} l_{y}}{18 l_{z}} & \\frac{d_{11} l_{y} l_{z}}{9 l_{x}} + \\frac{d_{22} l_{x} l_{z}}{9 l_{y}} + \\frac{d_{33} l_{x} l_{y}}{9 l_{z}} & \\frac{d_{11} l_{y} l_{z}}{36 l_{x}} - \\frac{d_{22} l_{x} l_{z}}{18 l_{y}} - \\frac{d_{33} l_{x} l_{y}}{18 l_{z}} & - \\frac{d_{11} l_{y} l_{z}}{36 l_{x}} - \\frac{d_{22} l_{x} l_{z}}{36 l_{y}} - \\frac{d_{33} l_{x} l_{y}}{36 l_{z}} & - \\frac{d_{11} l_{y} l_{z}}{18 l_{x}} + \\frac{d_{22} l_{x} l_{z}}{36 l_{y}} - \\frac{d_{33} l_{x} l_{y}}{18 l_{z}} & \\frac{d_{11} l_{y} l_{z}}{18 l_{x}} + \\frac{d_{22} l_{x} l_{z}}{18 l_{y}} - \\frac{d_{33} l_{x} l_{y}}{9 l_{z}}\\\\\\frac{d_{11} l_{y} l_{z}}{18 l_{x}} + \\frac{d_{22} l_{x} l_{z}}{18 l_{y}} - \\frac{d_{33} l_{x} l_{y}}{9 l_{z}} & - \\frac{d_{11} l_{y} l_{z}}{18 l_{x}} + \\frac{d_{22} l_{x} l_{z}}{36 l_{y}} - \\frac{d_{33} l_{x} l_{y}}{18 l_{z}} & - \\frac{d_{11} l_{y} l_{z}}{36 l_{x}} - \\frac{d_{22} l_{x} l_{z}}{36 l_{y}} - \\frac{d_{33} l_{x} l_{y}}{36 l_{z}} & \\frac{d_{11} l_{y} l_{z}}{36 l_{x}} - \\frac{d_{22} l_{x} l_{z}}{18 l_{y}} - \\frac{d_{33} l_{x} l_{y}}{18 l_{z}} & \\frac{d_{11} l_{y} l_{z}}{9 l_{x}} + \\frac{d_{22} l_{x} l_{z}}{9 l_{y}} + \\frac{d_{33} l_{x} l_{y}}{9 l_{z}} & - \\frac{d_{11} l_{y} l_{z}}{9 l_{x}} + \\frac{d_{22} l_{x} l_{z}}{18 l_{y}} + \\frac{d_{33} l_{x} l_{y}}{18 l_{z}} & - \\frac{d_{11} l_{y} l_{z}}{18 l_{x}} - \\frac{d_{22} l_{x} l_{z}}{18 l_{y}} + \\frac{d_{33} l_{x} l_{y}}{36 l_{z}} & \\frac{d_{11} l_{y} l_{z}}{18 l_{x}} - \\frac{d_{22} l_{x} l_{z}}{9 l_{y}} + \\frac{d_{33} l_{x} l_{y}}{18 l_{z}}\\\\- \\frac{d_{11} l_{y} l_{z}}{18 l_{x}} + \\frac{d_{22} l_{x} l_{z}}{36 l_{y}} - \\frac{d_{33} l_{x} l_{y}}{18 l_{z}} & \\frac{d_{11} l_{y} l_{z}}{18 l_{x}} + \\frac{d_{22} l_{x} l_{z}}{18 l_{y}} - \\frac{d_{33} l_{x} l_{y}}{9 l_{z}} & \\frac{d_{11} l_{y} l_{z}}{36 l_{x}} - \\frac{d_{22} l_{x} l_{z}}{18 l_{y}} - \\frac{d_{33} l_{x} l_{y}}{18 l_{z}} & - \\frac{d_{11} l_{y} l_{z}}{36 l_{x}} - \\frac{d_{22} l_{x} l_{z}}{36 l_{y}} - \\frac{d_{33} l_{x} l_{y}}{36 l_{z}} & - \\frac{d_{11} l_{y} l_{z}}{9 l_{x}} + \\frac{d_{22} l_{x} l_{z}}{18 l_{y}} + \\frac{d_{33} l_{x} l_{y}}{18 l_{z}} & \\frac{d_{11} l_{y} l_{z}}{9 l_{x}} + \\frac{d_{22} l_{x} l_{z}}{9 l_{y}} + \\frac{d_{33} l_{x} l_{y}}{9 l_{z}} & \\frac{d_{11} l_{y} l_{z}}{18 l_{x}} - \\frac{d_{22} l_{x} l_{z}}{9 l_{y}} + \\frac{d_{33} l_{x} l_{y}}{18 l_{z}} & - \\frac{d_{11} l_{y} l_{z}}{18 l_{x}} - \\frac{d_{22} l_{x} l_{z}}{18 l_{y}} + \\frac{d_{33} l_{x} l_{y}}{36 l_{z}}\\\\- \\frac{d_{11} l_{y} l_{z}}{36 l_{x}} - \\frac{d_{22} l_{x} l_{z}}{36 l_{y}} - \\frac{d_{33} l_{x} l_{y}}{36 l_{z}} & \\frac{d_{11} l_{y} l_{z}}{36 l_{x}} - \\frac{d_{22} l_{x} l_{z}}{18 l_{y}} - \\frac{d_{33} l_{x} l_{y}}{18 l_{z}} & \\frac{d_{11} l_{y} l_{z}}{18 l_{x}} + \\frac{d_{22} l_{x} l_{z}}{18 l_{y}} - \\frac{d_{33} l_{x} l_{y}}{9 l_{z}} & - \\frac{d_{11} l_{y} l_{z}}{18 l_{x}} + \\frac{d_{22} l_{x} l_{z}}{36 l_{y}} - \\frac{d_{33} l_{x} l_{y}}{18 l_{z}} & - \\frac{d_{11} l_{y} l_{z}}{18 l_{x}} - \\frac{d_{22} l_{x} l_{z}}{18 l_{y}} + \\frac{d_{33} l_{x} l_{y}}{36 l_{z}} & \\frac{d_{11} l_{y} l_{z}}{18 l_{x}} - \\frac{d_{22} l_{x} l_{z}}{9 l_{y}} + \\frac{d_{33} l_{x} l_{y}}{18 l_{z}} & \\frac{d_{11} l_{y} l_{z}}{9 l_{x}} + \\frac{d_{22} l_{x} l_{z}}{9 l_{y}} + \\frac{d_{33} l_{x} l_{y}}{9 l_{z}} & - \\frac{d_{11} l_{y} l_{z}}{9 l_{x}} + \\frac{d_{22} l_{x} l_{z}}{18 l_{y}} + \\frac{d_{33} l_{x} l_{y}}{18 l_{z}}\\\\\\frac{d_{11} l_{y} l_{z}}{36 l_{x}} - \\frac{d_{22} l_{x} l_{z}}{18 l_{y}} - \\frac{d_{33} l_{x} l_{y}}{18 l_{z}} & - \\frac{d_{11} l_{y} l_{z}}{36 l_{x}} - \\frac{d_{22} l_{x} l_{z}}{36 l_{y}} - \\frac{d_{33} l_{x} l_{y}}{36 l_{z}} & - \\frac{d_{11} l_{y} l_{z}}{18 l_{x}} + \\frac{d_{22} l_{x} l_{z}}{36 l_{y}} - \\frac{d_{33} l_{x} l_{y}}{18 l_{z}} & \\frac{d_{11} l_{y} l_{z}}{18 l_{x}} + \\frac{d_{22} l_{x} l_{z}}{18 l_{y}} - \\frac{d_{33} l_{x} l_{y}}{9 l_{z}} & \\frac{d_{11} l_{y} l_{z}}{18 l_{x}} - \\frac{d_{22} l_{x} l_{z}}{9 l_{y}} + \\frac{d_{33} l_{x} l_{y}}{18 l_{z}} & - \\frac{d_{11} l_{y} l_{z}}{18 l_{x}} - \\frac{d_{22} l_{x} l_{z}}{18 l_{y}} + \\frac{d_{33} l_{x} l_{y}}{36 l_{z}} & - \\frac{d_{11} l_{y} l_{z}}{9 l_{x}} + \\frac{d_{22} l_{x} l_{z}}{18 l_{y}} + \\frac{d_{33} l_{x} l_{y}}{18 l_{z}} & \\frac{d_{11} l_{y} l_{z}}{9 l_{x}} + \\frac{d_{22} l_{x} l_{z}}{9 l_{y}} + \\frac{d_{33} l_{x} l_{y}}{9 l_{z}}\\end{matrix}\\right]$"
      ],
      "text/plain": [
       "Matrix([\n",
       "[    d11*l_y*l_z/(9*l_x) + d22*l_x*l_z/(9*l_y) + d33*l_x*l_y/(9*l_z),  -d11*l_y*l_z/(9*l_x) + d22*l_x*l_z/(18*l_y) + d33*l_x*l_y/(18*l_z), -d11*l_y*l_z/(18*l_x) - d22*l_x*l_z/(18*l_y) + d33*l_x*l_y/(36*l_z),   d11*l_y*l_z/(18*l_x) - d22*l_x*l_z/(9*l_y) + d33*l_x*l_y/(18*l_z),   d11*l_y*l_z/(18*l_x) + d22*l_x*l_z/(18*l_y) - d33*l_x*l_y/(9*l_z), -d11*l_y*l_z/(18*l_x) + d22*l_x*l_z/(36*l_y) - d33*l_x*l_y/(18*l_z), -d11*l_y*l_z/(36*l_x) - d22*l_x*l_z/(36*l_y) - d33*l_x*l_y/(36*l_z),  d11*l_y*l_z/(36*l_x) - d22*l_x*l_z/(18*l_y) - d33*l_x*l_y/(18*l_z)],\n",
       "[ -d11*l_y*l_z/(9*l_x) + d22*l_x*l_z/(18*l_y) + d33*l_x*l_y/(18*l_z),     d11*l_y*l_z/(9*l_x) + d22*l_x*l_z/(9*l_y) + d33*l_x*l_y/(9*l_z),   d11*l_y*l_z/(18*l_x) - d22*l_x*l_z/(9*l_y) + d33*l_x*l_y/(18*l_z), -d11*l_y*l_z/(18*l_x) - d22*l_x*l_z/(18*l_y) + d33*l_x*l_y/(36*l_z), -d11*l_y*l_z/(18*l_x) + d22*l_x*l_z/(36*l_y) - d33*l_x*l_y/(18*l_z),   d11*l_y*l_z/(18*l_x) + d22*l_x*l_z/(18*l_y) - d33*l_x*l_y/(9*l_z),  d11*l_y*l_z/(36*l_x) - d22*l_x*l_z/(18*l_y) - d33*l_x*l_y/(18*l_z), -d11*l_y*l_z/(36*l_x) - d22*l_x*l_z/(36*l_y) - d33*l_x*l_y/(36*l_z)],\n",
       "[-d11*l_y*l_z/(18*l_x) - d22*l_x*l_z/(18*l_y) + d33*l_x*l_y/(36*l_z),   d11*l_y*l_z/(18*l_x) - d22*l_x*l_z/(9*l_y) + d33*l_x*l_y/(18*l_z),     d11*l_y*l_z/(9*l_x) + d22*l_x*l_z/(9*l_y) + d33*l_x*l_y/(9*l_z),  -d11*l_y*l_z/(9*l_x) + d22*l_x*l_z/(18*l_y) + d33*l_x*l_y/(18*l_z), -d11*l_y*l_z/(36*l_x) - d22*l_x*l_z/(36*l_y) - d33*l_x*l_y/(36*l_z),  d11*l_y*l_z/(36*l_x) - d22*l_x*l_z/(18*l_y) - d33*l_x*l_y/(18*l_z),   d11*l_y*l_z/(18*l_x) + d22*l_x*l_z/(18*l_y) - d33*l_x*l_y/(9*l_z), -d11*l_y*l_z/(18*l_x) + d22*l_x*l_z/(36*l_y) - d33*l_x*l_y/(18*l_z)],\n",
       "[  d11*l_y*l_z/(18*l_x) - d22*l_x*l_z/(9*l_y) + d33*l_x*l_y/(18*l_z), -d11*l_y*l_z/(18*l_x) - d22*l_x*l_z/(18*l_y) + d33*l_x*l_y/(36*l_z),  -d11*l_y*l_z/(9*l_x) + d22*l_x*l_z/(18*l_y) + d33*l_x*l_y/(18*l_z),     d11*l_y*l_z/(9*l_x) + d22*l_x*l_z/(9*l_y) + d33*l_x*l_y/(9*l_z),  d11*l_y*l_z/(36*l_x) - d22*l_x*l_z/(18*l_y) - d33*l_x*l_y/(18*l_z), -d11*l_y*l_z/(36*l_x) - d22*l_x*l_z/(36*l_y) - d33*l_x*l_y/(36*l_z), -d11*l_y*l_z/(18*l_x) + d22*l_x*l_z/(36*l_y) - d33*l_x*l_y/(18*l_z),   d11*l_y*l_z/(18*l_x) + d22*l_x*l_z/(18*l_y) - d33*l_x*l_y/(9*l_z)],\n",
       "[  d11*l_y*l_z/(18*l_x) + d22*l_x*l_z/(18*l_y) - d33*l_x*l_y/(9*l_z), -d11*l_y*l_z/(18*l_x) + d22*l_x*l_z/(36*l_y) - d33*l_x*l_y/(18*l_z), -d11*l_y*l_z/(36*l_x) - d22*l_x*l_z/(36*l_y) - d33*l_x*l_y/(36*l_z),  d11*l_y*l_z/(36*l_x) - d22*l_x*l_z/(18*l_y) - d33*l_x*l_y/(18*l_z),     d11*l_y*l_z/(9*l_x) + d22*l_x*l_z/(9*l_y) + d33*l_x*l_y/(9*l_z),  -d11*l_y*l_z/(9*l_x) + d22*l_x*l_z/(18*l_y) + d33*l_x*l_y/(18*l_z), -d11*l_y*l_z/(18*l_x) - d22*l_x*l_z/(18*l_y) + d33*l_x*l_y/(36*l_z),   d11*l_y*l_z/(18*l_x) - d22*l_x*l_z/(9*l_y) + d33*l_x*l_y/(18*l_z)],\n",
       "[-d11*l_y*l_z/(18*l_x) + d22*l_x*l_z/(36*l_y) - d33*l_x*l_y/(18*l_z),   d11*l_y*l_z/(18*l_x) + d22*l_x*l_z/(18*l_y) - d33*l_x*l_y/(9*l_z),  d11*l_y*l_z/(36*l_x) - d22*l_x*l_z/(18*l_y) - d33*l_x*l_y/(18*l_z), -d11*l_y*l_z/(36*l_x) - d22*l_x*l_z/(36*l_y) - d33*l_x*l_y/(36*l_z),  -d11*l_y*l_z/(9*l_x) + d22*l_x*l_z/(18*l_y) + d33*l_x*l_y/(18*l_z),     d11*l_y*l_z/(9*l_x) + d22*l_x*l_z/(9*l_y) + d33*l_x*l_y/(9*l_z),   d11*l_y*l_z/(18*l_x) - d22*l_x*l_z/(9*l_y) + d33*l_x*l_y/(18*l_z), -d11*l_y*l_z/(18*l_x) - d22*l_x*l_z/(18*l_y) + d33*l_x*l_y/(36*l_z)],\n",
       "[-d11*l_y*l_z/(36*l_x) - d22*l_x*l_z/(36*l_y) - d33*l_x*l_y/(36*l_z),  d11*l_y*l_z/(36*l_x) - d22*l_x*l_z/(18*l_y) - d33*l_x*l_y/(18*l_z),   d11*l_y*l_z/(18*l_x) + d22*l_x*l_z/(18*l_y) - d33*l_x*l_y/(9*l_z), -d11*l_y*l_z/(18*l_x) + d22*l_x*l_z/(36*l_y) - d33*l_x*l_y/(18*l_z), -d11*l_y*l_z/(18*l_x) - d22*l_x*l_z/(18*l_y) + d33*l_x*l_y/(36*l_z),   d11*l_y*l_z/(18*l_x) - d22*l_x*l_z/(9*l_y) + d33*l_x*l_y/(18*l_z),     d11*l_y*l_z/(9*l_x) + d22*l_x*l_z/(9*l_y) + d33*l_x*l_y/(9*l_z),  -d11*l_y*l_z/(9*l_x) + d22*l_x*l_z/(18*l_y) + d33*l_x*l_y/(18*l_z)],\n",
       "[ d11*l_y*l_z/(36*l_x) - d22*l_x*l_z/(18*l_y) - d33*l_x*l_y/(18*l_z), -d11*l_y*l_z/(36*l_x) - d22*l_x*l_z/(36*l_y) - d33*l_x*l_y/(36*l_z), -d11*l_y*l_z/(18*l_x) + d22*l_x*l_z/(36*l_y) - d33*l_x*l_y/(18*l_z),   d11*l_y*l_z/(18*l_x) + d22*l_x*l_z/(18*l_y) - d33*l_x*l_y/(9*l_z),   d11*l_y*l_z/(18*l_x) - d22*l_x*l_z/(9*l_y) + d33*l_x*l_y/(18*l_z), -d11*l_y*l_z/(18*l_x) - d22*l_x*l_z/(18*l_y) + d33*l_x*l_y/(36*l_z),  -d11*l_y*l_z/(9*l_x) + d22*l_x*l_z/(18*l_y) + d33*l_x*l_y/(18*l_z),     d11*l_y*l_z/(9*l_x) + d22*l_x*l_z/(9*l_y) + d33*l_x*l_y/(9*l_z)]])"
      ]
     },
     "execution_count": 39,
     "metadata": {},
     "output_type": "execute_result"
    }
   ],
   "source": [
    "# defining the D as a diagonal matrix with d11, d22, d33 as the diagonal elements\n",
    "d11, d22, d33 = sp.symbols('d11 d22 d33')\n",
    "D = sp.diag(d11, d22, d33)\n",
    "K = sp.Integral(DN.T * D * DN, (x, 0, l_x), (y, 0, l_y), (z, 0, l_z)).doit()\n",
    "K.simplify()"
   ]
  },
  {
   "cell_type": "code",
   "execution_count": 57,
   "metadata": {},
   "outputs": [
    {
     "data": {
      "text/latex": [
       "$\\displaystyle \\left[\\begin{matrix}4 & 0 & -1 & 0 & 0 & -1 & -1 & -1\\\\0 & 4 & 0 & -1 & -1 & 0 & -1 & -1\\\\-1 & 0 & 4 & 0 & -1 & -1 & 0 & -1\\\\0 & -1 & 0 & 4 & -1 & -1 & -1 & 0\\\\0 & -1 & -1 & -1 & 4 & 0 & -1 & 0\\\\-1 & 0 & -1 & -1 & 0 & 4 & 0 & -1\\\\-1 & -1 & 0 & -1 & -1 & 0 & 4 & 0\\\\-1 & -1 & -1 & 0 & 0 & -1 & 0 & 4\\end{matrix}\\right]$"
      ],
      "text/plain": [
       "Matrix([\n",
       "[ 4,  0, -1,  0,  0, -1, -1, -1],\n",
       "[ 0,  4,  0, -1, -1,  0, -1, -1],\n",
       "[-1,  0,  4,  0, -1, -1,  0, -1],\n",
       "[ 0, -1,  0,  4, -1, -1, -1,  0],\n",
       "[ 0, -1, -1, -1,  4,  0, -1,  0],\n",
       "[-1,  0, -1, -1,  0,  4,  0, -1],\n",
       "[-1, -1,  0, -1, -1,  0,  4,  0],\n",
       "[-1, -1, -1,  0,  0, -1,  0,  4]])"
      ]
     },
     "execution_count": 57,
     "metadata": {},
     "output_type": "execute_result"
    }
   ],
   "source": [
    "l = sp.symbols('l')\n",
    "d = sp.symbols('d')\n",
    "K_cube = K.subs({l_x: l, l_y: l, l_z: l, d11: d, d22: d, d33: d}).factor()\n",
    "K_cube_coef = K_cube  * 12 / d / l\n",
    "K_cube_coef"
   ]
  },
  {
   "cell_type": "code",
   "execution_count": 58,
   "metadata": {},
   "outputs": [
    {
     "data": {
      "text/latex": [
       "$\\displaystyle \\left[\\begin{matrix}8 & 4 & 2 & 4 & 4 & 2 & 1 & 2\\\\4 & 8 & 4 & 2 & 2 & 4 & 2 & 1\\\\2 & 4 & 8 & 4 & 1 & 2 & 4 & 2\\\\4 & 2 & 4 & 8 & 2 & 1 & 2 & 4\\\\4 & 2 & 1 & 2 & 8 & 4 & 2 & 4\\\\2 & 4 & 2 & 1 & 4 & 8 & 4 & 2\\\\1 & 2 & 4 & 2 & 2 & 4 & 8 & 4\\\\2 & 1 & 2 & 4 & 4 & 2 & 4 & 8\\end{matrix}\\right]$"
      ],
      "text/plain": [
       "Matrix([\n",
       "[8, 4, 2, 4, 4, 2, 1, 2],\n",
       "[4, 8, 4, 2, 2, 4, 2, 1],\n",
       "[2, 4, 8, 4, 1, 2, 4, 2],\n",
       "[4, 2, 4, 8, 2, 1, 2, 4],\n",
       "[4, 2, 1, 2, 8, 4, 2, 4],\n",
       "[2, 4, 2, 1, 4, 8, 4, 2],\n",
       "[1, 2, 4, 2, 2, 4, 8, 4],\n",
       "[2, 1, 2, 4, 4, 2, 4, 8]])"
      ]
     },
     "execution_count": 58,
     "metadata": {},
     "output_type": "execute_result"
    }
   ],
   "source": [
    "# defining the mass matrix\n",
    "rho = sp.symbols('rho')\n",
    "M = sp.Integral(N * rho * N.T, (x, 0, l_x), (y, 0, l_y), (z, 0, l_z)).doit()\n",
    "M_cube = M.subs({l_x: l, l_y: l, l_z: l}).factor()\n",
    "M_cube_coef = M_cube / (l**3 * rho) * 216\n",
    "M_cube_coef.simplify()\n"
   ]
  },
  {
   "cell_type": "code",
   "execution_count": 60,
   "metadata": {},
   "outputs": [
    {
     "data": {
      "text/latex": [
       "$\\displaystyle \\left[\\begin{matrix}\\frac{d l}{3} + \\frac{l^{3} \\rho}{27} & \\frac{l^{3} \\rho}{54} & - \\frac{d l}{12} + \\frac{l^{3} \\rho}{108} & \\frac{l^{3} \\rho}{54} & \\frac{l^{3} \\rho}{54} & - \\frac{d l}{12} + \\frac{l^{3} \\rho}{108} & - \\frac{d l}{12} + \\frac{l^{3} \\rho}{216} & - \\frac{d l}{12} + \\frac{l^{3} \\rho}{108}\\\\\\frac{l^{3} \\rho}{54} & \\frac{d l}{3} + \\frac{l^{3} \\rho}{27} & \\frac{l^{3} \\rho}{54} & - \\frac{d l}{12} + \\frac{l^{3} \\rho}{108} & - \\frac{d l}{12} + \\frac{l^{3} \\rho}{108} & \\frac{l^{3} \\rho}{54} & - \\frac{d l}{12} + \\frac{l^{3} \\rho}{108} & - \\frac{d l}{12} + \\frac{l^{3} \\rho}{216}\\\\- \\frac{d l}{12} + \\frac{l^{3} \\rho}{108} & \\frac{l^{3} \\rho}{54} & \\frac{d l}{3} + \\frac{l^{3} \\rho}{27} & \\frac{l^{3} \\rho}{54} & - \\frac{d l}{12} + \\frac{l^{3} \\rho}{216} & - \\frac{d l}{12} + \\frac{l^{3} \\rho}{108} & \\frac{l^{3} \\rho}{54} & - \\frac{d l}{12} + \\frac{l^{3} \\rho}{108}\\\\\\frac{l^{3} \\rho}{54} & - \\frac{d l}{12} + \\frac{l^{3} \\rho}{108} & \\frac{l^{3} \\rho}{54} & \\frac{d l}{3} + \\frac{l^{3} \\rho}{27} & - \\frac{d l}{12} + \\frac{l^{3} \\rho}{108} & - \\frac{d l}{12} + \\frac{l^{3} \\rho}{216} & - \\frac{d l}{12} + \\frac{l^{3} \\rho}{108} & \\frac{l^{3} \\rho}{54}\\\\\\frac{l^{3} \\rho}{54} & - \\frac{d l}{12} + \\frac{l^{3} \\rho}{108} & - \\frac{d l}{12} + \\frac{l^{3} \\rho}{216} & - \\frac{d l}{12} + \\frac{l^{3} \\rho}{108} & \\frac{d l}{3} + \\frac{l^{3} \\rho}{27} & \\frac{l^{3} \\rho}{54} & - \\frac{d l}{12} + \\frac{l^{3} \\rho}{108} & \\frac{l^{3} \\rho}{54}\\\\- \\frac{d l}{12} + \\frac{l^{3} \\rho}{108} & \\frac{l^{3} \\rho}{54} & - \\frac{d l}{12} + \\frac{l^{3} \\rho}{108} & - \\frac{d l}{12} + \\frac{l^{3} \\rho}{216} & \\frac{l^{3} \\rho}{54} & \\frac{d l}{3} + \\frac{l^{3} \\rho}{27} & \\frac{l^{3} \\rho}{54} & - \\frac{d l}{12} + \\frac{l^{3} \\rho}{108}\\\\- \\frac{d l}{12} + \\frac{l^{3} \\rho}{216} & - \\frac{d l}{12} + \\frac{l^{3} \\rho}{108} & \\frac{l^{3} \\rho}{54} & - \\frac{d l}{12} + \\frac{l^{3} \\rho}{108} & - \\frac{d l}{12} + \\frac{l^{3} \\rho}{108} & \\frac{l^{3} \\rho}{54} & \\frac{d l}{3} + \\frac{l^{3} \\rho}{27} & \\frac{l^{3} \\rho}{54}\\\\- \\frac{d l}{12} + \\frac{l^{3} \\rho}{108} & - \\frac{d l}{12} + \\frac{l^{3} \\rho}{216} & - \\frac{d l}{12} + \\frac{l^{3} \\rho}{108} & \\frac{l^{3} \\rho}{54} & \\frac{l^{3} \\rho}{54} & - \\frac{d l}{12} + \\frac{l^{3} \\rho}{108} & \\frac{l^{3} \\rho}{54} & \\frac{d l}{3} + \\frac{l^{3} \\rho}{27}\\end{matrix}\\right]$"
      ],
      "text/plain": [
       "Matrix([\n",
       "[   d*l/3 + l**3*rho/27,            l**3*rho/54, -d*l/12 + l**3*rho/108,            l**3*rho/54,            l**3*rho/54, -d*l/12 + l**3*rho/108, -d*l/12 + l**3*rho/216, -d*l/12 + l**3*rho/108],\n",
       "[           l**3*rho/54,    d*l/3 + l**3*rho/27,            l**3*rho/54, -d*l/12 + l**3*rho/108, -d*l/12 + l**3*rho/108,            l**3*rho/54, -d*l/12 + l**3*rho/108, -d*l/12 + l**3*rho/216],\n",
       "[-d*l/12 + l**3*rho/108,            l**3*rho/54,    d*l/3 + l**3*rho/27,            l**3*rho/54, -d*l/12 + l**3*rho/216, -d*l/12 + l**3*rho/108,            l**3*rho/54, -d*l/12 + l**3*rho/108],\n",
       "[           l**3*rho/54, -d*l/12 + l**3*rho/108,            l**3*rho/54,    d*l/3 + l**3*rho/27, -d*l/12 + l**3*rho/108, -d*l/12 + l**3*rho/216, -d*l/12 + l**3*rho/108,            l**3*rho/54],\n",
       "[           l**3*rho/54, -d*l/12 + l**3*rho/108, -d*l/12 + l**3*rho/216, -d*l/12 + l**3*rho/108,    d*l/3 + l**3*rho/27,            l**3*rho/54, -d*l/12 + l**3*rho/108,            l**3*rho/54],\n",
       "[-d*l/12 + l**3*rho/108,            l**3*rho/54, -d*l/12 + l**3*rho/108, -d*l/12 + l**3*rho/216,            l**3*rho/54,    d*l/3 + l**3*rho/27,            l**3*rho/54, -d*l/12 + l**3*rho/108],\n",
       "[-d*l/12 + l**3*rho/216, -d*l/12 + l**3*rho/108,            l**3*rho/54, -d*l/12 + l**3*rho/108, -d*l/12 + l**3*rho/108,            l**3*rho/54,    d*l/3 + l**3*rho/27,            l**3*rho/54],\n",
       "[-d*l/12 + l**3*rho/108, -d*l/12 + l**3*rho/216, -d*l/12 + l**3*rho/108,            l**3*rho/54,            l**3*rho/54, -d*l/12 + l**3*rho/108,            l**3*rho/54,    d*l/3 + l**3*rho/27]])"
      ]
     },
     "execution_count": 60,
     "metadata": {},
     "output_type": "execute_result"
    }
   ],
   "source": [
    "lhs_cube = K_cube + M_cube\n",
    "lhs_cube"
   ]
  },
  {
   "cell_type": "code",
   "execution_count": 64,
   "metadata": {},
   "outputs": [
    {
     "name": "stdout",
     "output_type": "stream",
     "text": [
      "x0 = d*l;\n",
      "x1 = pow(l, 3);\n",
      "x2 = rho*x1;\n",
      "x3 = (1.0/3.0)*x0 + (1.0/27.0)*x2;\n",
      "x4 = (1.0/12.0)*x0;\n",
      "x5 = (1.0/216.0)*rho*x1 - x4;\n",
      "x6 = (1.0/108.0)*rho*x1 - x4;\n",
      "x7 = X_5*x6;\n",
      "x8 = X_7*x6;\n",
      "x9 = (1.0/54.0)*x2;\n",
      "x10 = X_1*x9;\n",
      "x11 = X_3*x9;\n",
      "x12 = x10 + x11 + x7 + x8;\n",
      "x13 = X_2*x6 + X_4*x9;\n",
      "x14 = X_4*x6;\n",
      "x15 = X_6*x6;\n",
      "x16 = X_0*x9;\n",
      "x17 = X_2*x9;\n",
      "x18 = x14 + x15 + x16 + x17;\n",
      "x19 = X_3*x6 + X_5*x9;\n",
      "x20 = X_0*x6 + X_6*x9;\n",
      "x21 = X_1*x6 + X_7*x9;\n",
      "x22 = x19 + x21;\n",
      "x23 = x13 + x20;\n",
      "rResult[equation_id_0 + i]+=X_0*x3 + X_6*x5 + x12 + x13;\n",
      "rResult[equation_id_1 + i]+=X_1*x3 + X_7*x5 + x18 + x19;\n",
      "rResult[equation_id_2 + i]+=X_2*x3 + X_4*x5 + x12 + x20;\n",
      "rResult[equation_id_3 + i]+=X_3*x3 + X_5*x5 + x18 + x21;\n",
      "rResult[equation_id_4 + i]+=X_2*x5 + X_4*x3 + x15 + x16 + x22;\n",
      "rResult[equation_id_5 + i]+=X_3*x5 + X_5*x3 + x10 + x23 + x8;\n",
      "rResult[equation_id_6 + i]+=X_0*x5 + X_6*x3 + x14 + x17 + x22;\n",
      "rResult[equation_id_7 + i]+=X_1*x5 + X_7*x3 + x11 + x23 + x7;\n"
     ]
    }
   ],
   "source": [
    "x_vector = sp.Matrix(n_element_nodes, 1, lambda i,_: sp.var(\"X_{i}\".format(i=i)))\n",
    "x_vector\n",
    "y_vector = lhs_cube * x_vector\n",
    "\n",
    "replacements, reduced_exprs = sp.cse(y_vector)\n",
    "\n",
    "for var, expr in replacements:\n",
    "    print(sp.ccode(expr,assign_to=repr(var)))\n",
    "\n",
    "\n",
    "for i in range(8):\n",
    "    print(f'rResult[equation_id_{i} + i]+={sp.ccode(reduced_exprs[0][i,0])};')"
   ]
  }
 ],
 "metadata": {
  "kernelspec": {
   "display_name": "Python 3",
   "language": "python",
   "name": "python3"
  },
  "language_info": {
   "codemirror_mode": {
    "name": "ipython",
    "version": 3
   },
   "file_extension": ".py",
   "mimetype": "text/x-python",
   "name": "python",
   "nbconvert_exporter": "python",
   "pygments_lexer": "ipython3",
   "version": "3.9.7"
  }
 },
 "nbformat": 4,
 "nbformat_minor": 2
}
